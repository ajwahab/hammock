{
 "cells": [
  {
   "cell_type": "markdown",
   "metadata": {},
   "source": [
    "design ridgepole and suspension for hammock"
   ]
  },
  {
   "cell_type": "code",
   "execution_count": 2,
   "metadata": {},
   "outputs": [],
   "source": [
    "import math"
   ]
  },
  {
   "cell_type": "code",
   "execution_count": 3,
   "metadata": {},
   "outputs": [],
   "source": [
    "l_z_max = 3.1  # [m] max vertical span\n",
    "l_x_max = 3.2 # [m] max horizontal span\n",
    "m = 150 / 2.2  # [kg] mass of occupant\n",
    "l_z_sit = 0.5 # [m] sit height"
   ]
  },
  {
   "cell_type": "code",
   "execution_count": 5,
   "metadata": {},
   "outputs": [
    {
     "name": "stdout",
     "output_type": "stream",
     "text": [
      "F_allow: 1237.9325176575069 N (277.61993260413 lbf)\n"
     ]
    }
   ],
   "source": [
    "# compute buckling force\n",
    "E_pole = 12.3e9  # [Pa] modulus of elasticity\n",
    "d_pole = (1 + 5/16) * 0.0254  # [m] ridgepole diameter\n",
    "I_pole = (math.pi / 4) * (d_pole / 2)**4  # [m^4] moment of inertia\n",
    "l_x_ridge = 8 * 12 * 0.0254  # [m] ridge length\n",
    "n = 1  # [-] simply supported end conditions\n",
    "F_allow = n * math.pi**2 * E_pole * I_pole / l_x_ridge**2\n",
    "print(f\"F_allow: {F_allow} N ({F_allow * 2.2 / 9.81} lbf)\")"
   ]
  },
  {
   "cell_type": "code",
   "execution_count": 6,
   "metadata": {},
   "outputs": [
    {
     "name": "stdout",
     "output_type": "stream",
     "text": [
      "F_tension: 472.95801296182026 N (106.06601717798212 lbf)\n",
      "F_ridge: 334.4318181818182 N (75.00000000000001 lbf)\n",
      "F_hang: 334.43181818181813 N (75.0 lbf)\n",
      "F_ridge < F_allow: True\n"
     ]
    }
   ],
   "source": [
    "angle = 45 * math.pi / 180  # [rad]\n",
    "F_weight = (m * 9.81)  # [N] weight of occupant\n",
    "F_tension = (F_weight / 2) / math.sin(angle)\n",
    "print(f\"F_tension: {F_tension} N ({F_tension * 2.2 / 9.81} lbf)\")\n",
    "F_ridge = (F_weight / 2) / math.tan(angle)  # [N] horizontal load\n",
    "print(f\"F_ridge: {F_ridge} N ({F_ridge * 2.2 / 9.81} lbf)\")\n",
    "F_hang = (F_weight / 2)  # [N] vertical load\n",
    "print(f\"F_hang: {F_hang} N ({F_hang * 2.2 / 9.81} lbf)\")\n",
    "print(f\"F_ridge < F_allow: {F_ridge < F_allow}\")"
   ]
  },
  {
   "cell_type": "code",
   "execution_count": null,
   "metadata": {},
   "outputs": [],
   "source": []
  }
 ],
 "metadata": {
  "kernelspec": {
   "display_name": "Python 3",
   "language": "python",
   "name": "python3"
  },
  "language_info": {
   "codemirror_mode": {
    "name": "ipython",
    "version": 3
   },
   "file_extension": ".py",
   "mimetype": "text/x-python",
   "name": "python",
   "nbconvert_exporter": "python",
   "pygments_lexer": "ipython3",
   "version": "3.8.5"
  }
 },
 "nbformat": 4,
 "nbformat_minor": 4
}
